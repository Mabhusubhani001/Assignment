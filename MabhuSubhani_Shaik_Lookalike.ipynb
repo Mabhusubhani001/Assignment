{
 "cells": [
  {
   "cell_type": "code",
   "execution_count": 1,
   "id": "cfd2f81d-c18b-4995-9ad4-e9e66e1c1003",
   "metadata": {},
   "outputs": [],
   "source": [
    "import pandas as pd\n",
    "import numpy as np\n",
    "from sklearn.preprocessing import StandardScaler\n",
    "from sklearn.metrics.pairwise import cosine_similarity\n",
    "# Load the datasets\n",
    "customers_df = pd.read_csv('Customers.csv')  # Customer data (including profiles)\n",
    "products_df = pd.read_csv('Products.csv')  # Product data\n",
    "transactions_df = pd.read_csv('Transactions.csv')  # Transaction data"
   ]
  },
  {
   "cell_type": "code",
   "execution_count": 2,
   "id": "46df6061-c902-4738-93bc-4368eb59994c",
   "metadata": {},
   "outputs": [],
   "source": [
    "# Merge customer and product data with transactions\n",
    "customer_transactions = pd.merge(transactions_df, customers_df, on='CustomerID', how='inner')\n",
    "customer_transactions = pd.merge(customer_transactions, products_df, on='ProductID', how='inner')\n",
    "# Aggregate transaction data by customer\n",
    "transaction_summary = customer_transactions.groupby('CustomerID').agg({\n",
    "    'TotalValue': 'sum',  # Total spending\n",
    "    'ProductID': 'nunique',  # Number of unique products purchased\n",
    "    'TransactionID': 'count',  # Frequency of transactions\n",
    "    'TransactionDate': 'max'  # Recency of the last purchase\n",
    "}).rename(columns={'TotalValue': 'TotalSpending', 'ProductID': 'UniqueProducts', 'TransactionID': 'PurchaseFrequency', 'TransactionDate': 'LastPurchaseDate'})"
   ]
  },
  {
   "cell_type": "code",
   "execution_count": 3,
   "id": "47beafa5-f402-4295-b44c-830ed15909a1",
   "metadata": {},
   "outputs": [
    {
     "name": "stdout",
     "output_type": "stream",
     "text": [
      "  CustomerID  TotalSpending  UniqueProducts  PurchaseFrequency  Recency  \\\n",
      "0      C0001        3354.52               5                  5       82   \n",
      "1      C0002        1862.74               4                  4       52   \n",
      "2      C0003        2725.38               4                  4      152   \n",
      "3      C0004        5354.88               8                  8       32   \n",
      "4      C0005        2034.24               3                  3       81   \n",
      "\n",
      "   Region_Europe  Region_North America  Region_South America  \n",
      "0          False                 False                  True  \n",
      "1          False                 False                 False  \n",
      "2          False                 False                  True  \n",
      "3          False                 False                  True  \n",
      "4          False                 False                 False  \n"
     ]
    }
   ],
   "source": [
    "# Convert 'LastPurchaseDate' to datetime and calculate recency\n",
    "transaction_summary['LastPurchaseDate'] = pd.to_datetime(transaction_summary['LastPurchaseDate'], errors='coerce')\n",
    "transaction_summary['Recency'] = (pd.to_datetime('today') - pd.to_datetime(transaction_summary['LastPurchaseDate'])).dt.days\n",
    "transaction_summary.drop(columns=['LastPurchaseDate'], inplace=True)\n",
    "# Merge with customer region information\n",
    "profile_data = pd.merge(customers_df[['CustomerID', 'Region']], transaction_summary, on='CustomerID', how='inner')\n",
    "# One-hot encode 'Region'\n",
    "profile_data = pd.get_dummies(profile_data, columns=['Region'], drop_first=True)\n",
    "# Normalize the data (excluding 'CustomerID')\n",
    "scaler = StandardScaler()\n",
    "scaled_data = scaler.fit_transform(profile_data.drop(columns=['CustomerID']))\n",
    "# Display processed data\n",
    "print(profile_data.head())"
   ]
  },
  {
   "cell_type": "code",
   "execution_count": 4,
   "id": "a193749f-c393-44c7-a82d-e112b5aee56a",
   "metadata": {},
   "outputs": [
    {
     "name": "stdout",
     "output_type": "stream",
     "text": [
      "[ 1.         -0.04803792  0.79464575  0.61829043 -0.08425857  0.88179824\n",
      " -0.17165257 -0.19250443 -0.34825802 -0.38064664  0.92443266  0.74958455\n",
      "  0.661982   -0.2892695  -0.31813323 -0.43250839 -0.29027758 -0.47454917\n",
      " -0.40167397 -0.29297868 -0.08740635 -0.1916711  -0.40827851 -0.39706972\n",
      "  0.70198557 -0.45804939 -0.15716055 -0.04059295 -0.30439205 -0.35303734\n",
      "  0.86939843  0.67738084 -0.28357356 -0.42250142 -0.44474777 -0.35016179\n",
      " -0.51001388 -0.36057784  0.90365394 -0.189138   -0.29672717 -0.3568701\n",
      " -0.11233312 -0.41646702 -0.1481727  -0.3718409  -0.40134387  0.96082202\n",
      " -0.33211486 -0.36078064 -0.30474226  0.74362343 -0.41596018 -0.08221804\n",
      " -0.46847238 -0.03025463 -0.36228523 -0.28647564 -0.27820847 -0.27365252\n",
      " -0.32749314 -0.38492169 -0.33397651 -0.41244072 -0.18372754 -0.45313449\n",
      " -0.43609028 -0.24420299 -0.39747789 -0.48447068  0.63609048 -0.43570913\n",
      " -0.36856643 -0.44573902 -0.23340728  0.9366327   0.68376746 -0.02526999\n",
      " -0.47084319 -0.15337962 -0.43500822  0.54748355  0.67224686 -0.02227103\n",
      "  0.76962217 -0.35977049  0.57006277 -0.03125182 -0.3035568  -0.14978854\n",
      "  0.78717254 -0.05070595 -0.09911882 -0.34928744  0.58839865  0.7484633\n",
      " -0.14210353 -0.25074802  0.54929966 -0.46968662 -0.02676585  0.54978141\n",
      " -0.48545903  0.54688342 -0.47601914 -0.08304143  0.99179306  0.72292414\n",
      " -0.20464255 -0.16022392 -0.35931127  0.56236446  0.69209515 -0.45498726\n",
      " -0.03676655 -0.40782982 -0.47460442  0.89860974 -0.30376725  0.64481384\n",
      " -0.3933455  -0.29860513 -0.05271304 -0.40875453 -0.46931784  0.87374854\n",
      " -0.48355806 -0.14826939  0.7578025   0.33927623 -0.29386512 -0.30619583\n",
      "  0.90790507 -0.05043357 -0.48720914 -0.11105041  0.93437163 -0.06559947\n",
      " -0.32906101 -0.08648843 -0.17003547 -0.02262478 -0.04779731 -0.33615984\n",
      " -0.05821331 -0.03637716  0.57429264  0.80253175 -0.51687232  0.351579\n",
      "  0.50545967  0.99448528  0.79355101 -0.45902162  0.71390562 -0.1747772\n",
      " -0.34259208  0.85251832 -0.03480317 -0.48159361 -0.12397607 -0.05306677\n",
      "  0.75737069 -0.47072899  0.5518198  -0.44590278 -0.4125985   0.8273668\n",
      "  0.87173172 -0.49824736  0.86470566 -0.38311514 -0.11724678  0.95135667\n",
      " -0.03339132 -0.4076511  -0.11463185 -0.03543283 -0.47354107  0.88163017\n",
      " -0.4365447  -0.42935503  0.78591931 -0.43073201 -0.09176873  0.91329072\n",
      "  0.55172997 -0.34453811  0.94655572  0.95449932  0.68745723 -0.21873817\n",
      " -0.37597502  0.91168875 -0.35719891 -0.29763065 -0.31581969 -0.42210032\n",
      " -0.07185656]\n"
     ]
    }
   ],
   "source": [
    "# Calculate Cosine Similarity Matrix\n",
    "similarity_matrix = cosine_similarity(scaled_data)\n",
    "# Check similarity between the first customer and others\n",
    "print(similarity_matrix[0])"
   ]
  },
  {
   "cell_type": "code",
   "execution_count": 5,
   "id": "4bbb4bb7-3e5e-4b73-b6a8-4d12f61784ad",
   "metadata": {},
   "outputs": [
    {
     "name": "stdout",
     "output_type": "stream",
     "text": [
      "[('C0048', 0.9608220170182876), ('C0107', 0.9917930589676538), ('C0152', 0.9944852815216094)]\n"
     ]
    }
   ],
   "source": [
    "def get_top_similar_customers(customer_id, similarity_matrix, top_n=3):\n",
    "    customer_idx = profile_data[profile_data['CustomerID'] == customer_id].index[0]\n",
    "    similarity_scores = similarity_matrix[customer_idx]\n",
    "    # Get indices of top similar customers (exclude self)\n",
    "    similar_customer_idx = similarity_scores.argsort()[-top_n-1:-1]\n",
    "    similar_customers = profile_data.iloc[similar_customer_idx][['CustomerID']]\n",
    "    scores = similarity_scores[similar_customer_idx]\n",
    "    recommendations = list(zip(similar_customers['CustomerID'], scores))\n",
    "    return recommendations\n",
    "# Example: Get top 3 similar customers for CustomerID 'C0001'\n",
    "recommendations = get_top_similar_customers('C0001', similarity_matrix)\n",
    "print(recommendations)"
   ]
  },
  {
   "cell_type": "code",
   "execution_count": 6,
   "id": "4c772014-cbc7-47a6-842d-eebb2d88f5d5",
   "metadata": {},
   "outputs": [
    {
     "name": "stdout",
     "output_type": "stream",
     "text": [
      "Lookalike recommendations saved to Lookalike.csv\n"
     ]
    }
   ],
   "source": [
    "# Generate Lookalike CSV for the first 20 customers\n",
    "lookalike_list = []\n",
    "for customer_id in profile_data['CustomerID'][:20]:  # For first 20 customers (C0001 - C0020)\n",
    "    recommendations = get_top_similar_customers(customer_id, similarity_matrix)\n",
    "    for rec in recommendations:\n",
    "        lookalike_list.append([customer_id, rec[0], rec[1]])\n",
    "# Create DataFrame for the Lookalike Recommendations\n",
    "lookalike_df = pd.DataFrame(lookalike_list, columns=['CustomerID', 'LookalikeCustomerID', 'SimilarityScore'])\n",
    "# Save the Lookalike recommendations to a CSV file\n",
    "lookalike_df.to_csv('Lookalike.csv', index=False)\n",
    "print(\"Lookalike recommendations saved to Lookalike.csv\")"
   ]
  }
 ],
 "metadata": {
  "kernelspec": {
   "display_name": "Python 3 (ipykernel)",
   "language": "python",
   "name": "python3"
  },
  "language_info": {
   "codemirror_mode": {
    "name": "ipython",
    "version": 3
   },
   "file_extension": ".py",
   "mimetype": "text/x-python",
   "name": "python",
   "nbconvert_exporter": "python",
   "pygments_lexer": "ipython3",
   "version": "3.11.7"
  }
 },
 "nbformat": 4,
 "nbformat_minor": 5
}
